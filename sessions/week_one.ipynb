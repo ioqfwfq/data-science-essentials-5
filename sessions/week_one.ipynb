{
 "cells": [
  {
   "cell_type": "code",
   "execution_count": 2,
   "metadata": {},
   "outputs": [],
   "source": [
    "import pandas as pd"
   ]
  },
  {
   "cell_type": "code",
   "execution_count": 8,
   "metadata": {},
   "outputs": [],
   "source": [
    "hospitals = pd.read_csv(\n",
    "    'C:\\\\Users\\\\zhuj22\\\\OneDrive - Vanderbilt\\\\Documents\\\\GitHub\\\\data-science-essentials-5\\\\data\\\\Hospitals.csv')"
   ]
  },
  {
   "cell_type": "code",
   "execution_count": 17,
   "metadata": {},
   "outputs": [
    {
     "name": "stdout",
     "output_type": "stream",
     "text": [
      "(7596, 34)\n"
     ]
    }
   ],
   "source": [
    "#print(hospitals.head(1))\n",
    "print(hospitals.shape)"
   ]
  },
  {
   "cell_type": "code",
   "execution_count": 23,
   "metadata": {},
   "outputs": [
    {
     "data": {
      "text/plain": [
       "array(['GENERAL ACUTE CARE', 'PSYCHIATRIC', 'CHILDREN', 'LONG TERM CARE',\n",
       "       'CRITICAL ACCESS', 'REHABILITATION', 'MILITARY', 'WOMEN',\n",
       "       'SPECIAL', 'CHRONIC DISEASE'], dtype=object)"
      ]
     },
     "execution_count": 23,
     "metadata": {},
     "output_type": "execute_result"
    }
   ],
   "source": [
    "hospitals = hospitals[['NAME', 'ADDRESS', 'CITY', 'STATE', 'TYPE',  'POPULATION', 'COUNTY', 'COUNTYFIPS', 'NAICS_DESC', 'BEDS']]\n"
   ]
  },
  {
   "cell_type": "code",
   "execution_count": 25,
   "metadata": {},
   "outputs": [
    {
     "data": {
      "text/plain": [
       "GENERAL ACUTE CARE    4481\n",
       "CRITICAL ACCESS       1027\n",
       "PSYCHIATRIC            759\n",
       "LONG TERM CARE         431\n",
       "REHABILITATION         378\n",
       "MILITARY               216\n",
       "SPECIAL                145\n",
       "CHILDREN               130\n",
       "WOMEN                   20\n",
       "CHRONIC DISEASE          9\n",
       "Name: TYPE, dtype: int64"
      ]
     },
     "execution_count": 25,
     "metadata": {},
     "output_type": "execute_result"
    }
   ],
   "source": [
    "hospitals['TYPE'].unique()\n",
    "hospitals['TYPE'].value_counts()"
   ]
  },
  {
   "cell_type": "code",
   "execution_count": 30,
   "metadata": {},
   "outputs": [
    {
     "data": {
      "text/plain": [
       "0       False\n",
       "1       False\n",
       "2       False\n",
       "3       False\n",
       "4       False\n",
       "        ...  \n",
       "7591    False\n",
       "7592    False\n",
       "7593    False\n",
       "7594    False\n",
       "7595    False\n",
       "Name: CITY, Length: 7596, dtype: bool"
      ]
     },
     "execution_count": 30,
     "metadata": {},
     "output_type": "execute_result"
    }
   ],
   "source": [
    "hospitals['CITY']==\"NASHVILLE\""
   ]
  },
  {
   "cell_type": "code",
   "execution_count": 33,
   "metadata": {},
   "outputs": [
    {
     "name": "stdout",
     "output_type": "stream",
     "text": [
      "<class 'pandas.core.frame.DataFrame'>\n",
      "Int64Index: 16 entries, 545 to 6813\n",
      "Data columns (total 10 columns):\n",
      " #   Column      Non-Null Count  Dtype \n",
      "---  ------      --------------  ----- \n",
      " 0   NAME        16 non-null     object\n",
      " 1   ADDRESS     16 non-null     object\n",
      " 2   CITY        16 non-null     object\n",
      " 3   STATE       16 non-null     object\n",
      " 4   TYPE        16 non-null     object\n",
      " 5   POPULATION  16 non-null     int64 \n",
      " 6   COUNTY      16 non-null     object\n",
      " 7   COUNTYFIPS  16 non-null     object\n",
      " 8   NAICS_DESC  16 non-null     object\n",
      " 9   BEDS        16 non-null     int64 \n",
      "dtypes: int64(2), object(8)\n",
      "memory usage: 1.4+ KB\n"
     ]
    },
    {
     "data": {
      "text/plain": [
       "545      213\n",
       "2083      63\n",
       "3449      70\n",
       "3485      60\n",
       "3780      50\n",
       "4253      20\n",
       "5429    -999\n",
       "5433     150\n",
       "6289     683\n",
       "6293      80\n",
       "6661     493\n",
       "6774      23\n",
       "6777     541\n",
       "6786     126\n",
       "6808     733\n",
       "6813    1091\n",
       "Name: BEDS, dtype: int64"
      ]
     },
     "execution_count": 33,
     "metadata": {},
     "output_type": "execute_result"
    }
   ],
   "source": [
    "nashville_hospitals = hospitals.loc[hospitals['CITY']==\"NASHVILLE\"]\n",
    "nashville_hospitals.info()\n",
    "nashville_hospitals['BEDS']"
   ]
  },
  {
   "cell_type": "code",
   "execution_count": 47,
   "metadata": {},
   "outputs": [
    {
     "data": {
      "text/plain": [
       "NAME                 CENTRAL VALLEY GENERAL HOSPITAL\n",
       "ADDRESS                      1025 NORTH DOUTY STREET\n",
       "CITY                                         HANFORD\n",
       "STATE                                             CA\n",
       "TYPE                              GENERAL ACUTE CARE\n",
       "POPULATION                                        49\n",
       "COUNTY                                         KINGS\n",
       "COUNTYFIPS                                     06031\n",
       "NAICS_DESC    GENERAL MEDICAL AND SURGICAL HOSPITALS\n",
       "BEDS                                              49\n",
       "Name: 0, dtype: object"
      ]
     },
     "execution_count": 47,
     "metadata": {},
     "output_type": "execute_result"
    }
   ],
   "source": [
    "hospitals.loc[0]"
   ]
  },
  {
   "cell_type": "code",
   "execution_count": 62,
   "metadata": {},
   "outputs": [
    {
     "name": "stdout",
     "output_type": "stream",
     "text": [
      "SHELBY\n"
     ]
    }
   ],
   "source": [
    "#hospitals['STATE'].unique()\n",
    "most_hospitals_county = hospitals[hospitals['STATE']=='TN']['COUNTY'].value_counts().keys()[0]\n",
    "print(most_hospitals_county)"
   ]
  },
  {
   "cell_type": "code",
   "execution_count": 67,
   "metadata": {},
   "outputs": [
    {
     "data": {
      "text/plain": [
       "SHELBY        23\n",
       "DAVIDSON      15\n",
       "HAMILTON      13\n",
       "KNOX          11\n",
       "WASHINGTON     6\n",
       "              ..\n",
       "CARTER         1\n",
       "WARREN         1\n",
       "CLAY           1\n",
       "SMITH          1\n",
       "WAYNE          1\n",
       "Name: COUNTY, Length: 80, dtype: int64"
      ]
     },
     "execution_count": 67,
     "metadata": {},
     "output_type": "execute_result"
    }
   ],
   "source": [
    "hospitals[hospitals['STATE']=='TN']['COUNTY'].value_counts()\n",
    "# 95-80 = 15"
   ]
  }
 ],
 "metadata": {
  "kernelspec": {
   "display_name": "Python 3.10.2 64-bit",
   "language": "python",
   "name": "python3"
  },
  "language_info": {
   "codemirror_mode": {
    "name": "ipython",
    "version": 3
   },
   "file_extension": ".py",
   "mimetype": "text/x-python",
   "name": "python",
   "nbconvert_exporter": "python",
   "pygments_lexer": "ipython3",
   "version": "3.10.2"
  },
  "orig_nbformat": 4,
  "vscode": {
   "interpreter": {
    "hash": "e079f46cb4fb41cd0c0ea31c3b198fe65debb19a5ed04936a1354e0f9eaf9532"
   }
  }
 },
 "nbformat": 4,
 "nbformat_minor": 2
}
