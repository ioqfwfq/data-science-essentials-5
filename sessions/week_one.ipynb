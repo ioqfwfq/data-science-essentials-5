{
 "cells": [
  {
   "cell_type": "code",
   "execution_count": 1,
   "metadata": {},
   "outputs": [],
   "source": [
    "import pandas as pd"
   ]
  },
  {
   "cell_type": "code",
   "execution_count": 2,
   "metadata": {},
   "outputs": [],
   "source": [
    "hospitals = pd.read_csv(\n",
    "    'C:\\\\Users\\\\zhuj22\\\\OneDrive - Vanderbilt\\\\Documents\\\\GitHub\\\\data-science-essentials-5\\\\data\\\\Hospitals.csv')"
   ]
  },
  {
   "cell_type": "code",
   "execution_count": 17,
   "metadata": {},
   "outputs": [
    {
     "name": "stdout",
     "output_type": "stream",
     "text": [
      "(7596, 34)\n"
     ]
    }
   ],
   "source": [
    "#print(hospitals.head(1))\n",
    "print(hospitals.shape)"
   ]
  },
  {
   "cell_type": "code",
   "execution_count": 23,
   "metadata": {},
   "outputs": [
    {
     "data": {
      "text/plain": [
       "array(['GENERAL ACUTE CARE', 'PSYCHIATRIC', 'CHILDREN', 'LONG TERM CARE',\n",
       "       'CRITICAL ACCESS', 'REHABILITATION', 'MILITARY', 'WOMEN',\n",
       "       'SPECIAL', 'CHRONIC DISEASE'], dtype=object)"
      ]
     },
     "execution_count": 23,
     "metadata": {},
     "output_type": "execute_result"
    }
   ],
   "source": [
    "hospitals = hospitals[['NAME', 'ADDRESS', 'CITY', 'STATE', 'TYPE',  'POPULATION', 'COUNTY', 'COUNTYFIPS', 'NAICS_DESC', 'BEDS']]\n"
   ]
  },
  {
   "cell_type": "code",
   "execution_count": 25,
   "metadata": {},
   "outputs": [
    {
     "data": {
      "text/plain": [
       "GENERAL ACUTE CARE    4481\n",
       "CRITICAL ACCESS       1027\n",
       "PSYCHIATRIC            759\n",
       "LONG TERM CARE         431\n",
       "REHABILITATION         378\n",
       "MILITARY               216\n",
       "SPECIAL                145\n",
       "CHILDREN               130\n",
       "WOMEN                   20\n",
       "CHRONIC DISEASE          9\n",
       "Name: TYPE, dtype: int64"
      ]
     },
     "execution_count": 25,
     "metadata": {},
     "output_type": "execute_result"
    }
   ],
   "source": [
    "hospitals['TYPE'].unique()\n",
    "hospitals['TYPE'].value_counts()"
   ]
  },
  {
   "cell_type": "code",
   "execution_count": 4,
   "metadata": {},
   "outputs": [
    {
     "name": "stdout",
     "output_type": "stream",
     "text": [
      "<class 'pandas.core.frame.DataFrame'>\n",
      "Int64Index: 13 entries, 545 to 6813\n",
      "Data columns (total 34 columns):\n",
      " #   Column      Non-Null Count  Dtype  \n",
      "---  ------      --------------  -----  \n",
      " 0   X           13 non-null     float64\n",
      " 1   Y           13 non-null     float64\n",
      " 2   OBJECTID    13 non-null     int64  \n",
      " 3   ID          13 non-null     int64  \n",
      " 4   NAME        13 non-null     object \n",
      " 5   ADDRESS     13 non-null     object \n",
      " 6   CITY        13 non-null     object \n",
      " 7   STATE       13 non-null     object \n",
      " 8   ZIP         13 non-null     int64  \n",
      " 9   ZIP4        13 non-null     object \n",
      " 10  TELEPHONE   13 non-null     object \n",
      " 11  TYPE        13 non-null     object \n",
      " 12  STATUS      13 non-null     object \n",
      " 13  POPULATION  13 non-null     int64  \n",
      " 14  COUNTY      13 non-null     object \n",
      " 15  COUNTYFIPS  13 non-null     object \n",
      " 16  COUNTRY     13 non-null     object \n",
      " 17  LATITUDE    13 non-null     float64\n",
      " 18  LONGITUDE   13 non-null     float64\n",
      " 19  NAICS_CODE  13 non-null     int64  \n",
      " 20  NAICS_DESC  13 non-null     object \n",
      " 21  SOURCE      13 non-null     object \n",
      " 22  SOURCEDATE  13 non-null     object \n",
      " 23  VAL_METHOD  13 non-null     object \n",
      " 24  VAL_DATE    13 non-null     object \n",
      " 25  WEBSITE     13 non-null     object \n",
      " 26  STATE_ID    13 non-null     object \n",
      " 27  ALT_NAME    13 non-null     object \n",
      " 28  ST_FIPS     13 non-null     int64  \n",
      " 29  OWNER       13 non-null     object \n",
      " 30  TTL_STAFF   13 non-null     int64  \n",
      " 31  BEDS        13 non-null     int64  \n",
      " 32  TRAUMA      13 non-null     object \n",
      " 33  HELIPAD     13 non-null     object \n",
      "dtypes: float64(4), int64(8), object(22)\n",
      "memory usage: 3.6+ KB\n"
     ]
    },
    {
     "data": {
      "text/plain": [
       "545      213\n",
       "3449      70\n",
       "3485      60\n",
       "5429    -999\n",
       "5433     150\n",
       "6289     683\n",
       "6293      80\n",
       "6661     493\n",
       "6774      23\n",
       "6777     541\n",
       "6786     126\n",
       "6808     733\n",
       "6813    1091\n",
       "Name: BEDS, dtype: int64"
      ]
     },
     "execution_count": 4,
     "metadata": {},
     "output_type": "execute_result"
    }
   ],
   "source": [
    "nashville_hospitals = hospitals.loc[hospitals['CITY']=='NASHVILLE'].loc[hospitals['STATE']=='TN']\n",
    "nashville_hospitals.info()\n",
    "nashville_hospitals['BEDS']"
   ]
  },
  {
   "cell_type": "code",
   "execution_count": 47,
   "metadata": {},
   "outputs": [
    {
     "data": {
      "text/plain": [
       "NAME                 CENTRAL VALLEY GENERAL HOSPITAL\n",
       "ADDRESS                      1025 NORTH DOUTY STREET\n",
       "CITY                                         HANFORD\n",
       "STATE                                             CA\n",
       "TYPE                              GENERAL ACUTE CARE\n",
       "POPULATION                                        49\n",
       "COUNTY                                         KINGS\n",
       "COUNTYFIPS                                     06031\n",
       "NAICS_DESC    GENERAL MEDICAL AND SURGICAL HOSPITALS\n",
       "BEDS                                              49\n",
       "Name: 0, dtype: object"
      ]
     },
     "execution_count": 47,
     "metadata": {},
     "output_type": "execute_result"
    }
   ],
   "source": [
    "hospitals.loc[0]"
   ]
  },
  {
   "cell_type": "code",
   "execution_count": 5,
   "metadata": {},
   "outputs": [
    {
     "name": "stdout",
     "output_type": "stream",
     "text": [
      "SHELBY\n"
     ]
    }
   ],
   "source": [
    "#hospitals['STATE'].unique()\n",
    "most_hospitals_county = hospitals[hospitals['STATE']=='TN']['COUNTY'].value_counts().keys()[0]\n",
    "print(most_hospitals_county)"
   ]
  },
  {
   "cell_type": "code",
   "execution_count": 67,
   "metadata": {},
   "outputs": [
    {
     "data": {
      "text/plain": [
       "SHELBY        23\n",
       "DAVIDSON      15\n",
       "HAMILTON      13\n",
       "KNOX          11\n",
       "WASHINGTON     6\n",
       "              ..\n",
       "CARTER         1\n",
       "WARREN         1\n",
       "CLAY           1\n",
       "SMITH          1\n",
       "WAYNE          1\n",
       "Name: COUNTY, Length: 80, dtype: int64"
      ]
     },
     "execution_count": 67,
     "metadata": {},
     "output_type": "execute_result"
    }
   ],
   "source": [
    "hospitals[hospitals['STATE']=='TN']['COUNTY'].value_counts()\n",
    "# 95-80 = 15"
   ]
  }
 ],
 "metadata": {
  "kernelspec": {
   "display_name": "Python 3.10.2 64-bit",
   "language": "python",
   "name": "python3"
  },
  "language_info": {
   "codemirror_mode": {
    "name": "ipython",
    "version": 3
   },
   "file_extension": ".py",
   "mimetype": "text/x-python",
   "name": "python",
   "nbconvert_exporter": "python",
   "pygments_lexer": "ipython3",
   "version": "3.10.2"
  },
  "orig_nbformat": 4,
  "vscode": {
   "interpreter": {
    "hash": "e079f46cb4fb41cd0c0ea31c3b198fe65debb19a5ed04936a1354e0f9eaf9532"
   }
  }
 },
 "nbformat": 4,
 "nbformat_minor": 2
}
