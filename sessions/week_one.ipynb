{
 "cells": [
  {
   "cell_type": "code",
   "execution_count": 3,
   "metadata": {},
   "outputs": [],
   "source": [
    "import pandas as pd"
   ]
  },
  {
   "cell_type": "code",
   "execution_count": 4,
   "metadata": {},
   "outputs": [],
   "source": [
    "# hospitals = pd.read_csv(\n",
    "#  'C:\\\\Users\\\\zhuj22\\\\OneDrive - Vanderbilt\\\\Documents\\\\GitHub\\\\data-science-essentials-5\\\\data\\\\Hospitals.csv')\n",
    "\n",
    "# use / instead of \\\\\n",
    "# use .. instead of full path\n",
    "hospitals = pd.read_csv('../data/Hospitals.csv')"
   ]
  },
  {
   "cell_type": "code",
   "execution_count": 6,
   "metadata": {},
   "outputs": [
    {
     "name": "stdout",
     "output_type": "stream",
     "text": [
      "(7596, 34)\n",
      "Index(['X', 'Y', 'OBJECTID', 'ID', 'NAME', 'ADDRESS', 'CITY', 'STATE', 'ZIP',\n",
      "       'ZIP4', 'TELEPHONE', 'TYPE', 'STATUS', 'POPULATION', 'COUNTY',\n",
      "       'COUNTYFIPS', 'COUNTRY', 'LATITUDE', 'LONGITUDE', 'NAICS_CODE',\n",
      "       'NAICS_DESC', 'SOURCE', 'SOURCEDATE', 'VAL_METHOD', 'VAL_DATE',\n",
      "       'WEBSITE', 'STATE_ID', 'ALT_NAME', 'ST_FIPS', 'OWNER', 'TTL_STAFF',\n",
      "       'BEDS', 'TRAUMA', 'HELIPAD'],\n",
      "      dtype='object')\n"
     ]
    }
   ],
   "source": [
    "#print(hospitals.head(1))\n",
    "print(hospitals.shape)\n",
    "print(hospitals.columns)"
   ]
  },
  {
   "cell_type": "code",
   "execution_count": 10,
   "metadata": {},
   "outputs": [],
   "source": [
    "hospitals = hospitals[['NAME', 'ADDRESS', 'CITY', 'STATE', 'TYPE',\n",
    "'POPULATION', 'COUNTY',\n",
    "'COUNTYFIPS', 'NAICS_DESC', 'BEDS']]"
   ]
  },
  {
   "cell_type": "code",
   "execution_count": 9,
   "metadata": {},
   "outputs": [
    {
     "name": "stdout",
     "output_type": "stream",
     "text": [
      "['GENERAL ACUTE CARE' 'PSYCHIATRIC' 'CHILDREN' 'LONG TERM CARE'\n",
      " 'CRITICAL ACCESS' 'REHABILITATION' 'MILITARY' 'WOMEN' 'SPECIAL'\n",
      " 'CHRONIC DISEASE']\n",
      "GENERAL ACUTE CARE    4481\n",
      "CRITICAL ACCESS       1027\n",
      "PSYCHIATRIC            759\n",
      "LONG TERM CARE         431\n",
      "REHABILITATION         378\n",
      "MILITARY               216\n",
      "SPECIAL                145\n",
      "CHILDREN               130\n",
      "WOMEN                   20\n",
      "CHRONIC DISEASE          9\n",
      "Name: TYPE, dtype: int64\n"
     ]
    }
   ],
   "source": [
    "print(hospitals['TYPE'].unique())\n",
    "print(hospitals['TYPE'].value_counts())"
   ]
  },
  {
   "cell_type": "code",
   "execution_count": 12,
   "metadata": {},
   "outputs": [
    {
     "name": "stdout",
     "output_type": "stream",
     "text": [
      "545      213\n",
      "3449      70\n",
      "3485      60\n",
      "5429    -999\n",
      "5433     150\n",
      "6289     683\n",
      "6293      80\n",
      "6661     493\n",
      "6774      23\n",
      "6777     541\n",
      "6786     126\n",
      "6808     733\n",
      "6813    1091\n",
      "Name: BEDS, dtype: int64\n"
     ]
    }
   ],
   "source": [
    "nashville_hospitals = hospitals.loc[hospitals['CITY']=='NASHVILLE'].loc[hospitals['STATE']=='TN']\n",
    "# .loc can be chained\n",
    "print(nashville_hospitals['BEDS'])"
   ]
  },
  {
   "cell_type": "code",
   "execution_count": 20,
   "metadata": {},
   "outputs": [
    {
     "name": "stdout",
     "output_type": "stream",
     "text": [
      "SHELBY\n"
     ]
    }
   ],
   "source": [
    "most_hospitals_county = hospitals[hospitals['STATE']=='TN']['COUNTY'].value_counts().keys()[0]\n",
    "print(most_hospitals_county)\n",
    "\n",
    "# better to use the following?\n",
    "most_hospitals_county = hospitals.loc[hospitals['STATE']=='TN','COUNTY'].value_counts().keys()\n",
    "print(most_hospitals_county[0])"
   ]
  },
  {
   "cell_type": "code",
   "execution_count": 67,
   "metadata": {},
   "outputs": [
    {
     "data": {
      "text/plain": [
       "SHELBY        23\n",
       "DAVIDSON      15\n",
       "HAMILTON      13\n",
       "KNOX          11\n",
       "WASHINGTON     6\n",
       "              ..\n",
       "CARTER         1\n",
       "WARREN         1\n",
       "CLAY           1\n",
       "SMITH          1\n",
       "WAYNE          1\n",
       "Name: COUNTY, Length: 80, dtype: int64"
      ]
     },
     "execution_count": 67,
     "metadata": {},
     "output_type": "execute_result"
    }
   ],
   "source": [
    "hospitals[hospitals['STATE']=='TN']['COUNTY'].value_counts()\n",
    "# 95-80 = 15"
   ]
  }
 ],
 "metadata": {
  "kernelspec": {
   "display_name": "Python 3.10.2 64-bit",
   "language": "python",
   "name": "python3"
  },
  "language_info": {
   "codemirror_mode": {
    "name": "ipython",
    "version": 3
   },
   "file_extension": ".py",
   "mimetype": "text/x-python",
   "name": "python",
   "nbconvert_exporter": "python",
   "pygments_lexer": "ipython3",
   "version": "3.10.2"
  },
  "orig_nbformat": 4,
  "vscode": {
   "interpreter": {
    "hash": "e079f46cb4fb41cd0c0ea31c3b198fe65debb19a5ed04936a1354e0f9eaf9532"
   }
  }
 },
 "nbformat": 4,
 "nbformat_minor": 2
}
