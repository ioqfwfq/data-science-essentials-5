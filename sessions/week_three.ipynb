{
 "cells": [
  {
   "cell_type": "markdown",
   "metadata": {},
   "source": [
    "# Coding Tasks:\n",
    "\n",
    "Start a new Jupyter Notebook to complete these tasks. This week, you'll be combining two different datasets.\n",
    "\n",
    "First, you'll work with a dataset containing the number of primary care physicians per county for each county in the United States. It was obtained from the Area Health Resources File, published by the [Health Resources and Services Administration](https://data.hrsa.gov/topics/health-workforce/ahrf). This data is contained in the file `primary_care_physicians.csv`.\n",
    "\n",
    "Second, the file `population_by_county.csv` contains the Census Bureau's 2019 population estimates for each US County. It also contains a column `urban`. The `urban` column uses data from the National Bureau of Economic Research to classify each county as either urban or rural. The U.S. Office of Management and Budget designates counties as metropolitan (a core urban area of 50,000 or more population), micropolitan (an urban core of at least 10,000 but less than 50,000 population), or neither. Here, a county is considered \"urban\" if it is part of a metropolitan or micropolitan area and \"rural\" if it is not."
   ]
  },
  {
   "cell_type": "markdown",
   "metadata": {},
   "source": [
    "1. First, import the primary care physicians dataset (`primary_care_physicians.csv`) into a data frame named `physicians`. "
   ]
  },
  {
   "cell_type": "code",
   "execution_count": 1,
   "metadata": {},
   "outputs": [],
   "source": [
    "import pandas as pd\n",
    "\n",
    "physicians = pd.read_csv('../data/primary_care_physicians.csv')"
   ]
  },
  {
   "cell_type": "markdown",
   "metadata": {},
   "source": [
    " 2. Filter `physicians` down to just the counties in Tennessee. Save the filtered dataframe back to `physicians`. Verify that the resulting dataframe has 95 rows.\n"
   ]
  },
  {
   "cell_type": "code",
   "execution_count": 2,
   "metadata": {},
   "outputs": [
    {
     "data": {
      "text/html": [
       "<div>\n",
       "<style scoped>\n",
       "    .dataframe tbody tr th:only-of-type {\n",
       "        vertical-align: middle;\n",
       "    }\n",
       "\n",
       "    .dataframe tbody tr th {\n",
       "        vertical-align: top;\n",
       "    }\n",
       "\n",
       "    .dataframe thead th {\n",
       "        text-align: right;\n",
       "    }\n",
       "</style>\n",
       "<table border=\"1\" class=\"dataframe\">\n",
       "  <thead>\n",
       "    <tr style=\"text-align: right;\">\n",
       "      <th></th>\n",
       "      <th>FIPS</th>\n",
       "      <th>state</th>\n",
       "      <th>county</th>\n",
       "      <th>primary_care_physicians</th>\n",
       "    </tr>\n",
       "  </thead>\n",
       "  <tbody>\n",
       "    <tr>\n",
       "      <th>2432</th>\n",
       "      <td>47001</td>\n",
       "      <td>Tennessee</td>\n",
       "      <td>Anderson</td>\n",
       "      <td>39.0</td>\n",
       "    </tr>\n",
       "    <tr>\n",
       "      <th>2433</th>\n",
       "      <td>47003</td>\n",
       "      <td>Tennessee</td>\n",
       "      <td>Bedford</td>\n",
       "      <td>15.0</td>\n",
       "    </tr>\n",
       "    <tr>\n",
       "      <th>2434</th>\n",
       "      <td>47005</td>\n",
       "      <td>Tennessee</td>\n",
       "      <td>Benton</td>\n",
       "      <td>3.0</td>\n",
       "    </tr>\n",
       "    <tr>\n",
       "      <th>2435</th>\n",
       "      <td>47007</td>\n",
       "      <td>Tennessee</td>\n",
       "      <td>Bledsoe</td>\n",
       "      <td>1.0</td>\n",
       "    </tr>\n",
       "    <tr>\n",
       "      <th>2436</th>\n",
       "      <td>47009</td>\n",
       "      <td>Tennessee</td>\n",
       "      <td>Blount</td>\n",
       "      <td>90.0</td>\n",
       "    </tr>\n",
       "  </tbody>\n",
       "</table>\n",
       "</div>"
      ],
      "text/plain": [
       "       FIPS      state    county  primary_care_physicians\n",
       "2432  47001  Tennessee  Anderson                     39.0\n",
       "2433  47003  Tennessee   Bedford                     15.0\n",
       "2434  47005  Tennessee    Benton                      3.0\n",
       "2435  47007  Tennessee   Bledsoe                      1.0\n",
       "2436  47009  Tennessee    Blount                     90.0"
      ]
     },
     "execution_count": 2,
     "metadata": {},
     "output_type": "execute_result"
    }
   ],
   "source": [
    "physicians =  physicians.loc[physicians['state']=='Tennessee']\n",
    "physicians.head()"
   ]
  },
  {
   "cell_type": "markdown",
   "metadata": {},
   "source": [
    " 3. Look at the distribution of the number of primary care physicians. What do you notice?\n"
   ]
  },
  {
   "cell_type": "markdown",
   "metadata": {},
   "source": [
    " 4. Now, import the population by county dataset (`population_by_county.csv`) into a DataFrame named `population`.\n"
   ]
  },
  {
   "cell_type": "code",
   "execution_count": 5,
   "metadata": {},
   "outputs": [],
   "source": [
    "population = pd.read_csv('../data/population_by_county.csv')"
   ]
  },
  {
   "cell_type": "markdown",
   "metadata": {},
   "source": [
    " 5. Merge the `physicians` DataFrame with the `population` DataFrame. Keep only the values for Tennessee. When you merge, be sure the include both the `population` and `urban` columns in the merged results. Save the result of the merge back to `physicians`.\n"
   ]
  },
  {
   "cell_type": "code",
   "execution_count": 7,
   "metadata": {},
   "outputs": [],
   "source": [
    "physicians = pd.merge(left=physicians,right=population.drop(columns=['county','state']).loc[population['state']=='TENNESSEE'],on='FIPS')\n",
    "# need not .loc[population['state']=='TENNESSEE' since left already only TN"
   ]
  },
  {
   "cell_type": "markdown",
   "metadata": {},
   "source": [
    " 6. How many Tennessee counties are considered urban?\n"
   ]
  },
  {
   "cell_type": "markdown",
   "metadata": {},
   "source": [
    " 7. The State Health Access Data Assistance Center (SHADAC) (https://www.shadac.org/) classifies counties into three groups based on the number of residents per primary care physician. First, counties with fewer than 1500 residents per primary care physician are considered to have an \"adequate\" supply. Counties with at least 1500 residents but fewer than 3500 residents per primary care physician are considered to have a \"moderately inadequate\" supply, and counties with at least 3500 residents per primary care physician are considered to have a \"low inadequate\" supply. How many counties in Tennessee are in each group? \n"
   ]
  },
  {
   "cell_type": "code",
   "execution_count": 9,
   "metadata": {},
   "outputs": [],
   "source": [
    "# physicians.head()\n",
    "adequate_county = physicians.loc[physicians['population']/physicians['primary_care_physicians'] <= 1500]\n",
    "moderately_inadequate_county = physicians.loc[physicians['population']/physicians['primary_care_physicians'] < 3500].drop(adequate_county.index)\n",
    "low_inadequate_county = physicians.loc[physicians['population']/physicians['primary_care_physicians'] >= 3500]"
   ]
  },
  {
   "cell_type": "code",
   "execution_count": 10,
   "metadata": {},
   "outputs": [
    {
     "name": "stdout",
     "output_type": "stream",
     "text": [
      "number of adequate county:  14\n",
      "number of moderately inadequate county:  50\n",
      "number of low inadequate county:  31\n"
     ]
    }
   ],
   "source": [
    "print('number of adequate county: ', adequate_county.shape[0])\n",
    "print('number of moderately inadequate county: ', moderately_inadequate_county.shape[0])\n",
    "print('number of low inadequate county: ', low_inadequate_county.shape[0])"
   ]
  },
  {
   "cell_type": "markdown",
   "metadata": {},
   "source": [
    " 8. Does there appear to be any detectable relationship between whether a county is urban or rural and its supply of primary care physicians?"
   ]
  },
  {
   "cell_type": "code",
   "execution_count": 11,
   "metadata": {},
   "outputs": [],
   "source": [
    "adequate_county_urban = adequate_county.loc[adequate_county['urban']=='Urban']\n",
    "moderately_inadequate_county_urban = moderately_inadequate_county.loc[moderately_inadequate_county['urban']=='Urban']\n",
    "low_inadequate_county_urban = low_inadequate_county.loc[low_inadequate_county['urban']=='Urban']\n"
   ]
  },
  {
   "cell_type": "code",
   "execution_count": 12,
   "metadata": {},
   "outputs": [
    {
     "name": "stdout",
     "output_type": "stream",
     "text": [
      "rate of adequate county:  0.6428571428571429\n",
      "rate of moderately inadequate county:  0.38\n",
      "rate of low inadequate county:  0.3225806451612903\n"
     ]
    }
   ],
   "source": [
    "print('rate of adequate county: ', adequate_county_urban.shape[0]/adequate_county.shape[0])\n",
    "print('rate of moderately inadequate county: ', moderately_inadequate_county_urban.shape[0]/moderately_inadequate_county.shape[0])\n",
    "print('rate of low inadequate county: ', low_inadequate_county_urban.shape[0]/low_inadequate_county.shape[0])\n",
    "\n",
    "# can use value_counts(normalize = 'True')"
   ]
  },
  {
   "cell_type": "markdown",
   "metadata": {},
   "source": [
    "## Week 3:\n"
   ]
  },
  {
   "cell_type": "markdown",
   "metadata": {},
   "source": [
    "\n",
    "\n",
    "New Topics:\n",
    "\n",
    " * Exploratory Data Analysis\n",
    "  \n",
    "\n",
    "Coding Task:\n",
    "\n",
    "This week, you will build off of your work from last week.\n",
    "1. First, (if you haven't done so already), create a new column indicating the SHADAC classification for each Tennessee county. You can use the following code to accomplish this:\n"
   ]
  },
  {
   "cell_type": "code",
   "execution_count": 15,
   "metadata": {},
   "outputs": [],
   "source": [
    "physicians.loc[physicians['population']/physicians['primary_care_physicians'] < 1500, 'shadac_category'] = 'adequate'\n",
    "physicians.loc[(physicians['population']/physicians['primary_care_physicians'] >= 1500) & \n",
    "          (physicians['population']/physicians['primary_care_physicians'] < 3500), 'shadac_category'] = 'moderately inadequate'\n",
    "physicians.loc[(physicians['population']/physicians['primary_care_physicians'] >= 3500), 'shadac_category'] = 'low inadequate'"
   ]
  },
  {
   "cell_type": "code",
   "execution_count": 16,
   "metadata": {},
   "outputs": [
    {
     "data": {
      "text/html": [
       "<div>\n",
       "<style scoped>\n",
       "    .dataframe tbody tr th:only-of-type {\n",
       "        vertical-align: middle;\n",
       "    }\n",
       "\n",
       "    .dataframe tbody tr th {\n",
       "        vertical-align: top;\n",
       "    }\n",
       "\n",
       "    .dataframe thead th {\n",
       "        text-align: right;\n",
       "    }\n",
       "</style>\n",
       "<table border=\"1\" class=\"dataframe\">\n",
       "  <thead>\n",
       "    <tr style=\"text-align: right;\">\n",
       "      <th></th>\n",
       "      <th>FIPS</th>\n",
       "      <th>state</th>\n",
       "      <th>county</th>\n",
       "      <th>primary_care_physicians</th>\n",
       "      <th>population</th>\n",
       "      <th>urban</th>\n",
       "      <th>shadac_category</th>\n",
       "    </tr>\n",
       "  </thead>\n",
       "  <tbody>\n",
       "    <tr>\n",
       "      <th>0</th>\n",
       "      <td>47001</td>\n",
       "      <td>Tennessee</td>\n",
       "      <td>Anderson</td>\n",
       "      <td>39.0</td>\n",
       "      <td>76061</td>\n",
       "      <td>Urban</td>\n",
       "      <td>moderately inadequate</td>\n",
       "    </tr>\n",
       "    <tr>\n",
       "      <th>1</th>\n",
       "      <td>47003</td>\n",
       "      <td>Tennessee</td>\n",
       "      <td>Bedford</td>\n",
       "      <td>15.0</td>\n",
       "      <td>48292</td>\n",
       "      <td>Rural</td>\n",
       "      <td>moderately inadequate</td>\n",
       "    </tr>\n",
       "    <tr>\n",
       "      <th>2</th>\n",
       "      <td>47005</td>\n",
       "      <td>Tennessee</td>\n",
       "      <td>Benton</td>\n",
       "      <td>3.0</td>\n",
       "      <td>16140</td>\n",
       "      <td>Rural</td>\n",
       "      <td>low inadequate</td>\n",
       "    </tr>\n",
       "    <tr>\n",
       "      <th>3</th>\n",
       "      <td>47007</td>\n",
       "      <td>Tennessee</td>\n",
       "      <td>Bledsoe</td>\n",
       "      <td>1.0</td>\n",
       "      <td>14836</td>\n",
       "      <td>Rural</td>\n",
       "      <td>low inadequate</td>\n",
       "    </tr>\n",
       "    <tr>\n",
       "      <th>4</th>\n",
       "      <td>47009</td>\n",
       "      <td>Tennessee</td>\n",
       "      <td>Blount</td>\n",
       "      <td>90.0</td>\n",
       "      <td>129927</td>\n",
       "      <td>Urban</td>\n",
       "      <td>adequate</td>\n",
       "    </tr>\n",
       "  </tbody>\n",
       "</table>\n",
       "</div>"
      ],
      "text/plain": [
       "    FIPS      state    county  primary_care_physicians  population  urban  \\\n",
       "0  47001  Tennessee  Anderson                     39.0       76061  Urban   \n",
       "1  47003  Tennessee   Bedford                     15.0       48292  Rural   \n",
       "2  47005  Tennessee    Benton                      3.0       16140  Rural   \n",
       "3  47007  Tennessee   Bledsoe                      1.0       14836  Rural   \n",
       "4  47009  Tennessee    Blount                     90.0      129927  Urban   \n",
       "\n",
       "         shadac_category  \n",
       "0  moderately inadequate  \n",
       "1  moderately inadequate  \n",
       "2         low inadequate  \n",
       "3         low inadequate  \n",
       "4               adequate  "
      ]
     },
     "execution_count": 16,
     "metadata": {},
     "output_type": "execute_result"
    }
   ],
   "source": [
    "physicians.head()"
   ]
  },
  {
   "cell_type": "markdown",
   "metadata": {},
   "source": [
    "\n",
    "\n",
    "2. Use this new column to investigate if there is any relationship between a county's status as urban or rural and its SHADAC classification. Create a plot showing what you find.\n"
   ]
  },
  {
   "cell_type": "code",
   "execution_count": 17,
   "metadata": {},
   "outputs": [],
   "source": [
    "import seaborn as sns"
   ]
  },
  {
   "cell_type": "code",
   "execution_count": 27,
   "metadata": {},
   "outputs": [
    {
     "data": {
      "text/plain": [
       "<AxesSubplot: ylabel='Frequency'>"
      ]
     },
     "execution_count": 27,
     "metadata": {},
     "output_type": "execute_result"
    },
    {
     "data": {
      "image/png": "[encoded data removed]",
      "text/plain": [
       "<Figure size 640x480 with 1 Axes>"
      ]
     },
     "metadata": {},
     "output_type": "display_data"
    }
   ],
   "source": [
    "(\n",
    "    pd.crosstab(physicians['shadac_category'],\n",
    "    physicians['urban'],\n",
    "    normalize='index')\n",
    "    .plot(kind='hist')\n",
    ")"
   ]
  },
  {
   "cell_type": "markdown",
   "metadata": {},
   "source": [
    "3. Merge the unemployment data (contained in tn_unemployment.csv) into the physicians DataFrame.\n"
   ]
  },
  {
   "cell_type": "code",
   "execution_count": 28,
   "metadata": {},
   "outputs": [
    {
     "data": {
      "text/html": [
       "<div>\n",
       "<style scoped>\n",
       "    .dataframe tbody tr th:only-of-type {\n",
       "        vertical-align: middle;\n",
       "    }\n",
       "\n",
       "    .dataframe tbody tr th {\n",
       "        vertical-align: top;\n",
       "    }\n",
       "\n",
       "    .dataframe thead th {\n",
       "        text-align: right;\n",
       "    }\n",
       "</style>\n",
       "<table border=\"1\" class=\"dataframe\">\n",
       "  <thead>\n",
       "    <tr style=\"text-align: right;\">\n",
       "      <th></th>\n",
       "      <th>laus_code</th>\n",
       "      <th>State</th>\n",
       "      <th>County</th>\n",
       "      <th>Name</th>\n",
       "      <th>Period</th>\n",
       "      <th>LF</th>\n",
       "      <th>Employed</th>\n",
       "      <th>Unemployed</th>\n",
       "      <th>unemployment_rate</th>\n",
       "    </tr>\n",
       "  </thead>\n",
       "  <tbody>\n",
       "    <tr>\n",
       "      <th>0</th>\n",
       "      <td>CN4700100000000</td>\n",
       "      <td>47</td>\n",
       "      <td>1</td>\n",
       "      <td>Anderson County, TN</td>\n",
       "      <td>Mar-21</td>\n",
       "      <td>34704</td>\n",
       "      <td>33010</td>\n",
       "      <td>1694</td>\n",
       "      <td>4.9</td>\n",
       "    </tr>\n",
       "    <tr>\n",
       "      <th>1</th>\n",
       "      <td>CN4700300000000</td>\n",
       "      <td>47</td>\n",
       "      <td>3</td>\n",
       "      <td>Bedford County, TN</td>\n",
       "      <td>Mar-21</td>\n",
       "      <td>20623</td>\n",
       "      <td>19550</td>\n",
       "      <td>1073</td>\n",
       "      <td>5.2</td>\n",
       "    </tr>\n",
       "    <tr>\n",
       "      <th>2</th>\n",
       "      <td>CN4700500000000</td>\n",
       "      <td>47</td>\n",
       "      <td>5</td>\n",
       "      <td>Benton County, TN</td>\n",
       "      <td>Mar-21</td>\n",
       "      <td>6723</td>\n",
       "      <td>6305</td>\n",
       "      <td>418</td>\n",
       "      <td>6.2</td>\n",
       "    </tr>\n",
       "    <tr>\n",
       "      <th>3</th>\n",
       "      <td>CN4700700000000</td>\n",
       "      <td>47</td>\n",
       "      <td>7</td>\n",
       "      <td>Bledsoe County, TN</td>\n",
       "      <td>Mar-21</td>\n",
       "      <td>4252</td>\n",
       "      <td>3947</td>\n",
       "      <td>305</td>\n",
       "      <td>7.2</td>\n",
       "    </tr>\n",
       "    <tr>\n",
       "      <th>4</th>\n",
       "      <td>CN4700900000000</td>\n",
       "      <td>47</td>\n",
       "      <td>9</td>\n",
       "      <td>Blount County, TN</td>\n",
       "      <td>Mar-21</td>\n",
       "      <td>64098</td>\n",
       "      <td>61119</td>\n",
       "      <td>2979</td>\n",
       "      <td>4.6</td>\n",
       "    </tr>\n",
       "  </tbody>\n",
       "</table>\n",
       "</div>"
      ],
      "text/plain": [
       "         laus_code  State  County                 Name  Period     LF  \\\n",
       "0  CN4700100000000     47       1  Anderson County, TN  Mar-21  34704   \n",
       "1  CN4700300000000     47       3   Bedford County, TN  Mar-21  20623   \n",
       "2  CN4700500000000     47       5    Benton County, TN  Mar-21   6723   \n",
       "3  CN4700700000000     47       7   Bledsoe County, TN  Mar-21   4252   \n",
       "4  CN4700900000000     47       9    Blount County, TN  Mar-21  64098   \n",
       "\n",
       "   Employed  Unemployed  unemployment_rate  \n",
       "0     33010        1694                4.9  \n",
       "1     19550        1073                5.2  \n",
       "2      6305         418                6.2  \n",
       "3      3947         305                7.2  \n",
       "4     61119        2979                4.6  "
      ]
     },
     "execution_count": 28,
     "metadata": {},
     "output_type": "execute_result"
    }
   ],
   "source": [
    "unemployment = pd.read_csv('../data/tn_unemployment.csv')\n",
    "unemployment.head()"
   ]
  },
  {
   "cell_type": "code",
   "execution_count": 29,
   "metadata": {},
   "outputs": [
    {
     "data": {
      "text/html": [
       "<div>\n",
       "<style scoped>\n",
       "    .dataframe tbody tr th:only-of-type {\n",
       "        vertical-align: middle;\n",
       "    }\n",
       "\n",
       "    .dataframe tbody tr th {\n",
       "        vertical-align: top;\n",
       "    }\n",
       "\n",
       "    .dataframe thead th {\n",
       "        text-align: right;\n",
       "    }\n",
       "</style>\n",
       "<table border=\"1\" class=\"dataframe\">\n",
       "  <thead>\n",
       "    <tr style=\"text-align: right;\">\n",
       "      <th></th>\n",
       "      <th>laus_code</th>\n",
       "      <th>State</th>\n",
       "      <th>County</th>\n",
       "      <th>Name</th>\n",
       "      <th>Period</th>\n",
       "      <th>LF</th>\n",
       "      <th>Employed</th>\n",
       "      <th>Unemployed</th>\n",
       "      <th>unemployment_rate</th>\n",
       "      <th>FIPS</th>\n",
       "    </tr>\n",
       "  </thead>\n",
       "  <tbody>\n",
       "    <tr>\n",
       "      <th>0</th>\n",
       "      <td>CN4700100000000</td>\n",
       "      <td>47</td>\n",
       "      <td>1</td>\n",
       "      <td>Anderson County, TN</td>\n",
       "      <td>Mar-21</td>\n",
       "      <td>34704</td>\n",
       "      <td>33010</td>\n",
       "      <td>1694</td>\n",
       "      <td>4.9</td>\n",
       "      <td>47001</td>\n",
       "    </tr>\n",
       "    <tr>\n",
       "      <th>1</th>\n",
       "      <td>CN4700300000000</td>\n",
       "      <td>47</td>\n",
       "      <td>3</td>\n",
       "      <td>Bedford County, TN</td>\n",
       "      <td>Mar-21</td>\n",
       "      <td>20623</td>\n",
       "      <td>19550</td>\n",
       "      <td>1073</td>\n",
       "      <td>5.2</td>\n",
       "      <td>47003</td>\n",
       "    </tr>\n",
       "  </tbody>\n",
       "</table>\n",
       "</div>"
      ],
      "text/plain": [
       "         laus_code  State  County                 Name  Period     LF  \\\n",
       "0  CN4700100000000     47       1  Anderson County, TN  Mar-21  34704   \n",
       "1  CN4700300000000     47       3   Bedford County, TN  Mar-21  20623   \n",
       "\n",
       "   Employed  Unemployed  unemployment_rate   FIPS  \n",
       "0     33010        1694                4.9  47001  \n",
       "1     19550        1073                5.2  47003  "
      ]
     },
     "execution_count": 29,
     "metadata": {},
     "output_type": "execute_result"
    }
   ],
   "source": [
    "unemployment['FIPS'] = unemployment['laus_code'].str[2:7].astype(int)\n",
    "unemployment.head(2)"
   ]
  },
  {
   "cell_type": "code",
   "execution_count": 35,
   "metadata": {},
   "outputs": [],
   "source": [
    "physicians = pd.merge(left = physicians,\n",
    "                      right = unemployment.drop(columns=['State', 'laus_code','County','Name']),\n",
    "                      on = 'FIPS')"
   ]
  },
  {
   "cell_type": "markdown",
   "metadata": {},
   "source": [
    "4. How do unemployment rates compare for urban counties versus rural counties?\n"
   ]
  },
  {
   "cell_type": "code",
   "execution_count": 37,
   "metadata": {},
   "outputs": [
    {
     "data": {
      "image/png": "[encoded data removed]",
      "text/plain": [
       "<Figure size 500x300 with 1 Axes>"
      ]
     },
     "metadata": {},
     "output_type": "display_data"
    }
   ],
   "source": [
    "import matplotlib.pyplot as plt\n",
    "plt.figure(figsize = (5,3))\n",
    "\n",
    "sns.boxplot(data = physicians,\n",
    "           x = 'unemployment_rate',\n",
    "           y = 'urban');"
   ]
  },
  {
   "cell_type": "markdown",
   "metadata": {},
   "source": [
    "5. Create a new column, `pcp_per_100k` which contains the number of primary care physicians per 100,000 residents. Investigate the relationship between this new measure and the unemployment rate per county. What do you find?\n"
   ]
  },
  {
   "cell_type": "code",
   "execution_count": 39,
   "metadata": {},
   "outputs": [],
   "source": [
    "physicians['pcp_per_100k'] = physicians['primary_care_physicians']/physicians['population']*100000"
   ]
  },
  {
   "cell_type": "code",
   "execution_count": 51,
   "metadata": {},
   "outputs": [
    {
     "data": {
      "text/plain": [
       "<AxesSubplot: xlabel='unemployment_rate', ylabel='pcp_per_100k'>"
      ]
     },
     "execution_count": 51,
     "metadata": {},
     "output_type": "execute_result"
    },
    {
     "data": {
      "image/png": "[encoded data removed]",
      "text/plain": [
       "<Figure size 500x300 with 1 Axes>"
      ]
     },
     "metadata": {},
     "output_type": "display_data"
    }
   ],
   "source": [
    "plt.figure(figsize = (5,3))\n",
    "\n",
    "sns.scatterplot(data = physicians,\n",
    "                x = 'unemployment_rate',\n",
    "                y = 'pcp_per_100k');"
   ]
  },
  {
   "cell_type": "code",
   "execution_count": 59,
   "metadata": {},
   "outputs": [
    {
     "data": {
      "text/html": [
       "<div>\n",
       "<style scoped>\n",
       "    .dataframe tbody tr th:only-of-type {\n",
       "        vertical-align: middle;\n",
       "    }\n",
       "\n",
       "    .dataframe tbody tr th {\n",
       "        vertical-align: top;\n",
       "    }\n",
       "\n",
       "    .dataframe thead th {\n",
       "        text-align: right;\n",
       "    }\n",
       "</style>\n",
       "<table border=\"1\" class=\"dataframe\">\n",
       "  <thead>\n",
       "    <tr style=\"text-align: right;\">\n",
       "      <th></th>\n",
       "      <th>unemployment_rate</th>\n",
       "      <th>pcp_per_100k</th>\n",
       "    </tr>\n",
       "  </thead>\n",
       "  <tbody>\n",
       "    <tr>\n",
       "      <th>unemployment_rate</th>\n",
       "      <td>1.000000</td>\n",
       "      <td>-0.335333</td>\n",
       "    </tr>\n",
       "    <tr>\n",
       "      <th>pcp_per_100k</th>\n",
       "      <td>-0.335333</td>\n",
       "      <td>1.000000</td>\n",
       "    </tr>\n",
       "  </tbody>\n",
       "</table>\n",
       "</div>"
      ],
      "text/plain": [
       "                   unemployment_rate  pcp_per_100k\n",
       "unemployment_rate           1.000000     -0.335333\n",
       "pcp_per_100k               -0.335333      1.000000"
      ]
     },
     "execution_count": 59,
     "metadata": {},
     "output_type": "execute_result"
    }
   ],
   "source": [
    "physicians[['unemployment_rate','pcp_per_100k']].corr()"
   ]
  }
 ],
 "metadata": {
  "kernelspec": {
   "display_name": "Python 3.10.2 64-bit",
   "language": "python",
   "name": "python3"
  },
  "language_info": {
   "codemirror_mode": {
    "name": "ipython",
    "version": 3
   },
   "file_extension": ".py",
   "mimetype": "text/x-python",
   "name": "python",
   "nbconvert_exporter": "python",
   "pygments_lexer": "ipython3",
   "version": "3.10.2"
  },
  "orig_nbformat": 4,
  "vscode": {
   "interpreter": {
    "hash": "e079f46cb4fb41cd0c0ea31c3b198fe65debb19a5ed04936a1354e0f9eaf9532"
   }
  }
 },
 "nbformat": 4,
 "nbformat_minor": 2
}
